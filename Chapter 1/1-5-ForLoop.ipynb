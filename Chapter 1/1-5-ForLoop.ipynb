{
 "cells": [
  {
   "cell_type": "markdown",
   "metadata": {},
   "source": [
    "# For loop\n",
    "A ```for``` loop is used for iterating over a sequence. A sequence can be.\n",
    "- A string.\n",
    "- A list ```[1, 2, 3, 4, 5, 6]```.\n",
    "- A tuple ```(1, 2, 3, 4, 6)```.\n",
    "- A return value of function ```range(n)```.\n"
   ]
  },
  {
   "cell_type": "code",
   "execution_count": 1,
   "metadata": {},
   "outputs": [
    {
     "name": "stdout",
     "output_type": "stream",
     "text": [
      "h\n",
      "e\n",
      "l\n",
      "l\n",
      "o\n"
     ]
    }
   ],
   "source": [
    "# Iterating through a string\n",
    "s = \"hello\"\n",
    "for char in s:\n",
    "    print(char)"
   ]
  },
  {
   "cell_type": "code",
   "execution_count": 2,
   "metadata": {},
   "outputs": [
    {
     "name": "stdout",
     "output_type": "stream",
     "text": [
      "1\n",
      "2\n",
      "s\n",
      "4\n",
      "[2, 54]\n"
     ]
    }
   ],
   "source": [
    "# Iterating through a list using for loop\n",
    "l = [1, 2, 's', 4, [2, 54]]\n",
    "for i in l:\n",
    "    print(i)"
   ]
  },
  {
   "cell_type": "code",
   "execution_count": 3,
   "metadata": {},
   "outputs": [
    {
     "name": "stdout",
     "output_type": "stream",
     "text": [
      "i =  0\n",
      "i =  1\n",
      "i =  2\n",
      "i =  3\n",
      "i =  4\n",
      "--------------------------\n",
      "i =  6\n",
      "i =  7\n",
      "i =  8\n",
      "i =  9\n",
      "--------------------------\n",
      "j =  2\n",
      "j =  5\n",
      "j =  8\n",
      "j =  11\n",
      "j =  14\n",
      "j =  17\n"
     ]
    }
   ],
   "source": [
    "# Iterating through a return value of function range()\n",
    "for i in range(5):\n",
    "    print(\"i = \", i)\n",
    "\n",
    "print(\"--------------------------\")\n",
    "for i in range(6,10):\n",
    "    print(\"i = \", i)\n",
    "\n",
    "print(\"--------------------------\")\n",
    "for j in range(2,20, 3):\n",
    "    print(\"j = \", j)"
   ]
  },
  {
   "cell_type": "markdown",
   "metadata": {},
   "source": [
    "## Nested loop\n",
    "A loop can contains another loop.\n",
    "### Example:\n",
    "Cartesian product of ```list1``` and ```list2```."
   ]
  },
  {
   "cell_type": "code",
   "execution_count": 1,
   "metadata": {},
   "outputs": [
    {
     "name": "stdout",
     "output_type": "stream",
     "text": [
      "Cartesian product:  [(1, 4), (1, 5), (1, 6), (1, 7), (2, 4), (3, 4), (3, 5), (3, 6), (3, 7)]\n"
     ]
    }
   ],
   "source": [
    "list1 = [1, 2, 3]\n",
    "list2 = [4, 5, 6, 7]\n",
    "\n",
    "product = []\n",
    "for i in list1:\n",
    "    for j in list2:\n",
    "        product += [(i,j)]\n",
    "\n",
    "print(\"Cartesian product: \", product)"
   ]
  },
  {
   "cell_type": "code",
   "execution_count": null,
   "metadata": {},
   "outputs": [],
   "source": [
    "# A simpler way to get cartesian product :)\n",
    "product = [(i, j) for i in list1 for j in list2]\n",
    "print(\"Cartesian product: \", product)"
   ]
  },
  {
   "cell_type": "markdown",
   "metadata": {},
   "source": [
    "## Exercise\n",
    "### Exercise 1: Fibonacci number\n",
    "Write a function that computes the n-th Fibonacci ($F_N$) number using ```for``` loop:\n",
    "- $ F_0=0 $\n",
    "- $ F_1=1 $\n",
    "- $ F_N = F_{N-1}+F_{N-2}$ for $N\\geq2$"
   ]
  },
  {
   "cell_type": "code",
   "execution_count": 10,
   "metadata": {},
   "outputs": [
    {
     "name": "stdout",
     "output_type": "stream",
     "text": [
      "55\n"
     ]
    }
   ],
   "source": [
    "def fibonacci(n):\n",
    "    f = []\n",
    "    for i in range(n+1):\n",
    "        if i==0:\n",
    "            f = [0]\n",
    "        elif i==1:\n",
    "            f += [1]\n",
    "        else:\n",
    "            val = f[i-1] + f[i-2]\n",
    "            f += [val]\n",
    "    return f[n]\n",
    "\n",
    "print(fibonacci(10))"
   ]
  },
  {
   "cell_type": "code",
   "execution_count": 17,
   "metadata": {},
   "outputs": [
    {
     "name": "stdout",
     "output_type": "stream",
     "text": [
      "5\n"
     ]
    }
   ],
   "source": [
    "def fibo2(n):\n",
    "    if n==0:\n",
    "        return 0\n",
    "    if n==1: \n",
    "        return 1\n",
    "\n",
    "    a = 0 #f_0\n",
    "    b = 1 #f_1\n",
    "    for i in range(2, n+1):\n",
    "        c = a+b #  a is f(i-2) b is f(i-1), \n",
    "        # c is f(i)\n",
    "        # we want a = f(i-1) b = f(i)\n",
    "        a, b = b, c\n",
    "    return b\n",
    "\n",
    "print(fibo2(5))\n",
    "        "
   ]
  },
  {
   "cell_type": "markdown",
   "metadata": {},
   "source": [
    "### Exercise 2: finding odd value of a list\n",
    "Given a list ```l``` containing non-negative natural numbers, write a function that prints out all the odd numbers of ```l```."
   ]
  },
  {
   "cell_type": "code",
   "execution_count": null,
   "metadata": {},
   "outputs": [],
   "source": [
    "def print_odd(l):\n",
    "    #######################\n",
    "    # Insert your code here#\n",
    "    ########################\n",
    "\n",
    "    ########################\n",
    "    pass"
   ]
  },
  {
   "cell_type": "markdown",
   "metadata": {},
   "source": [
    "### Exercise 3: finding max value of a list\n",
    "Given a list ```l``` containing non-negative natural numbers, write a function that return the maximum value of ```l```."
   ]
  },
  {
   "cell_type": "code",
   "execution_count": null,
   "metadata": {},
   "outputs": [],
   "source": [
    "def maximum(l):\n",
    "    #######################\n",
    "    # Insert your code here#\n",
    "    ########################\n",
    "\n",
    "    ########################\n",
    "    pass\n",
    "\n",
    "list1 = [3, 4, 1, 0, 9]\n",
    "print(\"Max = \", maximum(list1)) ## should be 9"
   ]
  },
  {
   "cell_type": "markdown",
   "metadata": {},
   "source": [
    "### Exercise 4.1: find all pairs possible from a list\n",
    "Given a list ```l```, write a function that prints out all the pairs from the given list.\n",
    "\n",
    "Example:\n",
    "Given $l = [1, 2]$, the function should print out $(1,1), (1,2), (2,1), (2,2)$."
   ]
  },
  {
   "cell_type": "code",
   "execution_count": null,
   "metadata": {},
   "outputs": [],
   "source": [
    "def print_pairs(l):\n",
    "    #######################\n",
    "    # Insert your code here#\n",
    "    ########################\n",
    "\n",
    "    ########################\n",
    "    pass\n",
    "\n",
    "# Test\n",
    "l = [1, 2, 3]\n",
    "print_pairs(l)"
   ]
  },
  {
   "cell_type": "markdown",
   "metadata": {},
   "source": [
    "### Exercise 4.2: find all pairs possible from a list\n",
    "Given a list ```l```, in this exercise, we add a constraint that $(m, n)$ is considered identical to $(n,m)$. Write a function that print out all different pairs given the list ```l``` and the constraint.\n",
    "\n",
    "Example:\n",
    "Given $l = [1, 2]$, the function should print out $(1,1), (1,2), (2,2)$."
   ]
  },
  {
   "cell_type": "code",
   "execution_count": 21,
   "metadata": {},
   "outputs": [
    {
     "name": "stdout",
     "output_type": "stream",
     "text": [
      "1 1\n",
      "1 2\n",
      "1 2\n",
      "2 2\n",
      "2 2\n",
      "2 2\n"
     ]
    }
   ],
   "source": [
    "def print_pairs_2(l):\n",
    "    #################\n",
    "    # create a list l2 --> items from l no duplication\n",
    "    #################\n",
    "\n",
    "\n",
    "    #############\n",
    "    for i in range(len(l)):\n",
    "        for j in range(i, len(l)):\n",
    "            print(l[i], l[j])\n",
    "\n",
    "# Test\n",
    "l = [1, 2, 2, 1, 3] # -> l2 [1, 2, 3]\n",
    "print_pairs_2(l)"
   ]
  },
  {
   "cell_type": "markdown",
   "metadata": {},
   "source": [
    "### Exercise 5: sorting\n",
    "Given a list ```l```, return a new list that contains the values of ```l``` in ascending order. For example: given ```l = [3, 4, 1, 0, 9]```, return value must be ```[0, 1, 3, 4, 9]```.\n",
    "\n",
    "Hint: Do you remember 'recursion'?\n"
   ]
  },
  {
   "cell_type": "code",
   "execution_count": null,
   "metadata": {},
   "outputs": [],
   "source": [
    "def sort(l):\n",
    "    #######################\n",
    "    # Insert your code here#\n",
    "    ########################\n",
    "\n",
    "    ########################\n",
    "    pass"
   ]
  }
 ],
 "metadata": {
  "interpreter": {
   "hash": "1b79993a2ae15091fcd38ff818a05cf5295d1fd0de51de926e12ba603809d91f"
  },
  "kernelspec": {
   "display_name": "Python 3.8.8 64-bit ('base': conda)",
   "name": "python3"
  },
  "language_info": {
   "codemirror_mode": {
    "name": "ipython",
    "version": 3
   },
   "file_extension": ".py",
   "mimetype": "text/x-python",
   "name": "python",
   "nbconvert_exporter": "python",
   "pygments_lexer": "ipython3",
   "version": "3.8.8"
  },
  "orig_nbformat": 4
 },
 "nbformat": 4,
 "nbformat_minor": 2
}
