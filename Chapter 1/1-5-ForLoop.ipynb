{
 "cells": [
  {
   "cell_type": "markdown",
   "metadata": {},
   "source": [
    "# For loop\n",
    "A ```for``` loop is used for iterating over a sequence. A sequence can be.\n",
    "- A string.\n",
    "- A list ```[1, 2, 3, 4, 5, 6]```.\n",
    "- A tuple ```(1, 2, 3, 4, 6)```.\n",
    "- A return value of function ```range(n)```.\n"
   ]
  },
  {
   "cell_type": "code",
   "execution_count": null,
   "metadata": {},
   "outputs": [],
   "source": [
    "# Iterating through a string\n",
    "s = \"hello\"\n",
    "for char in s:\n",
    "    print(char)"
   ]
  },
  {
   "cell_type": "code",
   "execution_count": null,
   "metadata": {},
   "outputs": [],
   "source": [
    "# Iterating through a list\n",
    "l = [1, 2, 's', 4, [2, 54]]\n",
    "for i in l:\n",
    "    print(i)"
   ]
  },
  {
   "cell_type": "code",
   "execution_count": null,
   "metadata": {},
   "outputs": [],
   "source": [
    "# Iterating through a return value of function range()\n",
    "for i in range(5):\n",
    "    print(\"i = \", i)\n",
    "\n",
    "print(\"--------------------------\")\n",
    "for i in range(6,10):\n",
    "    print(\"i = \", i)\n",
    "\n",
    "print(\"--------------------------\")\n",
    "for j in range(2,20, 3):\n",
    "    print(\"j = \", j)"
   ]
  },
  {
   "cell_type": "markdown",
   "metadata": {},
   "source": [
    "## Nested loop\n",
    "A loop can contains another loop.\n",
    "### Example:\n",
    "Cartesian product of ```list1``` and ```list2```."
   ]
  },
  {
   "cell_type": "code",
   "execution_count": null,
   "metadata": {},
   "outputs": [],
   "source": [
    "list1 = [1, 2, 3]\n",
    "list2 = [4, 5, 6, 7]\n",
    "\n",
    "product = []\n",
    "for i in list1:\n",
    "    for j in list2:\n",
    "        product += [(i,j)]\n",
    "\n",
    "print(\"Cartesian product: \", product)"
   ]
  },
  {
   "cell_type": "code",
   "execution_count": null,
   "metadata": {},
   "outputs": [],
   "source": [
    "# A simpler way to get cartesian product :)\n",
    "product = [(i, j) for i in list1 for j in list2]\n",
    "print(\"Cartesian product: \", product)\n"
   ]
  },
  {
   "cell_type": "markdown",
   "metadata": {},
   "source": [
    "### Exercise 1: finding max value of a list\n",
    "Given a list ```l``` containing non-negative natural numbers, write a function that prints out all the odd numbers of ```l```."
   ]
  },
  {
   "cell_type": "code",
   "execution_count": null,
   "metadata": {},
   "outputs": [],
   "source": [
    "def print_odd(l):\n",
    "    #######################\n",
    "    # Insert your code here#\n",
    "    ########################\n",
    "\n",
    "    ########################\n",
    "    pass"
   ]
  },
  {
   "cell_type": "markdown",
   "metadata": {},
   "source": [
    "### Exercise 2: finding max value of a list\n",
    "Given a list ```l``` containing non-negative natural numbers, write a function that return the maximum value of ```l```."
   ]
  },
  {
   "cell_type": "code",
   "execution_count": null,
   "metadata": {},
   "outputs": [],
   "source": [
    "def maximum(l):\n",
    "    #######################\n",
    "    # Insert your code here#\n",
    "    ########################\n",
    "\n",
    "    ########################\n",
    "    pass\n",
    "\n",
    "list1 = [3, 4, 1, 0, 9]\n",
    "print(\"Max = \", maximum(list1)) ## should be 9"
   ]
  },
  {
   "cell_type": "markdown",
   "metadata": {},
   "source": [
    "### Exercise 3: sorting\n",
    "Given a list ```l```, return a new list that contains the values of ```l``` in ascending order. For example: given ```l = [3, 4, 1, 0, 9]```, return value must be ```[0, 1, 3, 4, 9]```.\n"
   ]
  },
  {
   "cell_type": "code",
   "execution_count": null,
   "metadata": {},
   "outputs": [],
   "source": [
    "def sort(l):\n",
    "    #######################\n",
    "    # Insert your code here#\n",
    "    ########################\n",
    "\n",
    "    ########################\n",
    "    pass"
   ]
  }
 ],
 "metadata": {
  "interpreter": {
   "hash": "1b79993a2ae15091fcd38ff818a05cf5295d1fd0de51de926e12ba603809d91f"
  },
  "kernelspec": {
   "display_name": "Python 3.8.8 64-bit ('base': conda)",
   "name": "python3"
  },
  "language_info": {
   "codemirror_mode": {
    "name": "ipython",
    "version": 3
   },
   "file_extension": ".py",
   "mimetype": "text/x-python",
   "name": "python",
   "nbconvert_exporter": "python",
   "pygments_lexer": "ipython3",
   "version": "3.8.8"
  },
  "orig_nbformat": 4
 },
 "nbformat": 4,
 "nbformat_minor": 2
}
