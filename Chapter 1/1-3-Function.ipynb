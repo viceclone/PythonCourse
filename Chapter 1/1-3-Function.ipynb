{
 "cells": [
  {
   "cell_type": "markdown",
   "metadata": {},
   "source": [
    "# Function in Python\n",
    "## Definition\n",
    "\n",
    "- *A function* is a block of code which only runs when it is called. A function regroups parts of the code that represent a specific module or functionality. A function is very often call method.\n",
    "- *Function parameters (or function arguments)* are data that are passed to a function.\n",
    "- A function can return data as a result, such data is called *return value*.\n",
    "\n",
    "Example: the function below will output the string \"Hello World!\" to screen.\n",
    "```Python\n",
    "print(\"Hello World\")\n",
    "```\n",
    "- *print* is the name of function.\n",
    "- \"Hello World\" is the sole parameter that has been passed to the function.\n",
    "- The function returns no result.\n",
    "\n",
    "## Defining a function\n",
    "In Python a function is defined using the *def* keyword:"
   ]
  },
  {
   "cell_type": "code",
   "execution_count": 6,
   "metadata": {},
   "outputs": [],
   "source": [
    "\"\"\"\n",
    "@brief: The function below will compute the square value of a number\n",
    "@param: 'a' is a number\n",
    "@return: the square value of a\n",
    "\"\"\"\n",
    "def square(a):\n",
    "    return a*a"
   ]
  },
  {
   "cell_type": "markdown",
   "metadata": {},
   "source": [
    "## Calling a function\n",
    "The function *square* is defined but has not been called yet. To call a function, use the function name followed by parenthesis:"
   ]
  },
  {
   "cell_type": "code",
   "execution_count": 7,
   "metadata": {},
   "outputs": [
    {
     "name": "stdout",
     "output_type": "stream",
     "text": [
      "a2 =  9\n",
      "a2^2 =  81\n"
     ]
    }
   ],
   "source": [
    "# function call without registering return value\n",
    "square(5)\n",
    "\n",
    "# return value is stored for future usage\n",
    "a2 = square(3)\n",
    "print(\"a2 = \", a2)\n",
    "\n",
    "# A function can also be called inside another (nested call)\n",
    "print(\"a2^2 = \", square(a2))"
   ]
  },
  {
   "cell_type": "markdown",
   "metadata": {},
   "source": [
    "## Examples\n",
    "### A function that swaps two parameters"
   ]
  },
  {
   "cell_type": "code",
   "execution_count": 8,
   "metadata": {},
   "outputs": [
    {
     "name": "stdout",
     "output_type": "stream",
     "text": [
      "------------------before------------------\n",
      "    a =  tea\n",
      "    b =  coffee\n",
      "------------------after------------------\n",
      "    a =  tea\n",
      "    b =  coffee\n"
     ]
    }
   ],
   "source": [
    "def fake_swap(x, y):\n",
    "    z = x\n",
    "    x = y\n",
    "    y = z\n",
    "\n",
    "a = \"tea\"\n",
    "b = \"coffee\" \n",
    "print(\"------------------before------------------\")\n",
    "print(\"    a = \", a)\n",
    "print(\"    b = \", b)\n",
    "\n",
    "# fake_swap function call\n",
    "fake_swap(a, b)\n",
    "\n",
    "print(\"------------------after------------------\")\n",
    "print(\"    a = \", a)\n",
    "print(\"    b = \", b)"
   ]
  },
  {
   "cell_type": "markdown",
   "metadata": {},
   "source": [
    "### Note\n",
    "When the variables a, b are passed to the function *fake_swap(x, y)*, a copy of *a* will be stored in *x* and a copy of *b* will be store in *y*. Any change that is made to *x, y* will not touch the variables *a* and *b* directly. Therefore the value of *a, b* will remain unchanged after the call to *fake_swap(a, b)*.\n",
    "\n",
    "The correct way of doing this type of function is:"
   ]
  },
  {
   "cell_type": "code",
   "execution_count": 12,
   "metadata": {},
   "outputs": [
    {
     "name": "stdout",
     "output_type": "stream",
     "text": [
      "------------------before------------------\n",
      "    a =  tea\n",
      "    b =  coffee\n",
      "------------------after------------------\n",
      "    a =  coffee\n",
      "    b =  tea\n"
     ]
    }
   ],
   "source": [
    "def swap1(x, y):\n",
    "    z = x\n",
    "    x = y\n",
    "    y = z\n",
    "    return x, y\n",
    "\n",
    "a = \"tea\"\n",
    "b = \"coffee\" \n",
    "print(\"------------------before------------------\")\n",
    "print(\"    a = \", a)\n",
    "print(\"    b = \", b)\n",
    "\n",
    "# Register the return value of swap1 back to a and b\n",
    "a, b = swap1(a, b)\n",
    "\n",
    "print(\"------------------after------------------\")\n",
    "print(\"    a = \", a)\n",
    "print(\"    b = \", b)"
   ]
  },
  {
   "cell_type": "code",
   "execution_count": 13,
   "metadata": {},
   "outputs": [
    {
     "name": "stdout",
     "output_type": "stream",
     "text": [
      "------------------before------------------\n",
      "    a =  tea\n",
      "    b =  coffee\n",
      "------------------after------------------\n",
      "    a =  coffee\n",
      "    b =  tea\n"
     ]
    }
   ],
   "source": [
    "# A very Python-ist way\n",
    "def swap2(x, y):\n",
    "    return y, x\n",
    "\n",
    "a = \"tea\"\n",
    "b = \"coffee\" \n",
    "print(\"------------------before------------------\")\n",
    "print(\"    a = \", a)\n",
    "print(\"    b = \", b)\n",
    "\n",
    "# Register the return value of swap1 back to a and b\n",
    "a, b = swap2(a, b)\n",
    "\n",
    "print(\"------------------after------------------\")\n",
    "print(\"    a = \", a)\n",
    "print(\"    b = \", b)"
   ]
  },
  {
   "cell_type": "markdown",
   "metadata": {},
   "source": [
    "### Sidenote\n",
    "The functions *swap* above serve the purpose of demonstrate how functions work in Python. If one wants to swap the value, he can simply write:"
   ]
  },
  {
   "cell_type": "code",
   "execution_count": 14,
   "metadata": {},
   "outputs": [
    {
     "name": "stdout",
     "output_type": "stream",
     "text": [
      "------------------before------------------\n",
      "    a =  tea\n",
      "    b =  coffee\n",
      "------------------after------------------\n",
      "    a =  coffee\n",
      "    b =  tea\n"
     ]
    }
   ],
   "source": [
    "a = \"tea\"\n",
    "b = \"coffee\" \n",
    "\n",
    "print(\"------------------before------------------\")\n",
    "print(\"    a = \", a)\n",
    "print(\"    b = \", b)\n",
    "\n",
    "# Register the return value of swap1 back to a and b\n",
    "a, b = b, a\n",
    "\n",
    "print(\"------------------after------------------\")\n",
    "print(\"    a = \", a)\n",
    "print(\"    b = \", b)"
   ]
  }
 ],
 "metadata": {
  "interpreter": {
   "hash": "1b79993a2ae15091fcd38ff818a05cf5295d1fd0de51de926e12ba603809d91f"
  },
  "kernelspec": {
   "display_name": "Python 3.8.8 64-bit ('base': conda)",
   "name": "python3"
  },
  "language_info": {
   "codemirror_mode": {
    "name": "ipython",
    "version": 3
   },
   "file_extension": ".py",
   "mimetype": "text/x-python",
   "name": "python",
   "nbconvert_exporter": "python",
   "pygments_lexer": "ipython3",
   "version": "3.8.8"
  },
  "orig_nbformat": 4
 },
 "nbformat": 4,
 "nbformat_minor": 2
}
