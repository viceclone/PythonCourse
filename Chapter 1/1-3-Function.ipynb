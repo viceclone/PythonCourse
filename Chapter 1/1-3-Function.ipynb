{
 "cells": [
  {
   "cell_type": "markdown",
   "metadata": {},
   "source": [
    "# Function in Python\n",
    "## Definition\n",
    "\n",
    "- *A function* is a block of code which only runs when it is called. A function regroups parts of the code that represent a specific module or functionality. A function is very often call method.\n",
    "- *Function parameters (or function arguments)* are data that are passed to a function.\n",
    "- A function can return data as a result, such data is called *return value*. NOTE: the *return* statement will terminate the function immediately, the remaining code of the function after the *return* statement (if exists) will be ignored.\n",
    "\n",
    "Example: the function below will output the string \"Hello World!\" to screen.\n",
    "```Python\n",
    "print(\"Hello World\")\n",
    "```\n",
    "- *print* is the name of function.\n",
    "- \"Hello World\" is the sole parameter that has been passed to the function.\n",
    "- The function returns no result.\n",
    "\n",
    "## Defining a function\n",
    "In Python a function is defined using the *def* keyword:"
   ]
  },
  {
   "cell_type": "code",
   "execution_count": null,
   "metadata": {},
   "outputs": [],
   "source": [
    "\"\"\"\n",
    "@brief: The function below will compute the square value of a number\n",
    "@param: 'a' is a number\n",
    "@return: the square value of a\n",
    "\"\"\"\n",
    "def square(a):\n",
    "    return a*a"
   ]
  },
  {
   "cell_type": "markdown",
   "metadata": {},
   "source": [
    "## Calling a function\n",
    "The function *square* is defined but has not been called yet. To call a function, use the function name followed by parenthesis:"
   ]
  },
  {
   "cell_type": "code",
   "execution_count": null,
   "metadata": {},
   "outputs": [],
   "source": [
    "# function call without registering return value\n",
    "square(5)\n",
    "\n",
    "# return value is stored for future usage\n",
    "a2 = square(3)\n",
    "print(\"a2 = \", a2)\n",
    "\n",
    "# A function can also be called inside another (nested call)\n",
    "print(\"a2^2 = \", square(a2))\n",
    "\n",
    "# Use function to define a list\n",
    "b = [1, 2, 3, 4, 5, 6]\n",
    "b2 = [square(i) for i in b]\n",
    "print('b = ', b)\n",
    "print('b2 = ', b2)"
   ]
  },
  {
   "cell_type": "markdown",
   "metadata": {},
   "source": [
    "## Note\n",
    "Given the code below, what will happen?"
   ]
  },
  {
   "cell_type": "code",
   "execution_count": null,
   "metadata": {},
   "outputs": [],
   "source": [
    "def increase(a):\n",
    "    a = a+1\n",
    "\n",
    "x = 3\n",
    "\n",
    "print(\"[Before] x = \", x)\n",
    "increase(x)\n",
    "print(\"[After] x = \", x)\n"
   ]
  },
  {
   "cell_type": "markdown",
   "metadata": {},
   "source": [
    "The value of x remains unchanged. The function did not work with the actual variable ```x```. Instead the value of ```x``` is copied to ```a```, and the function will work with ```a``` instead of ```x```.\n",
    "\n",
    "Now, observe another example."
   ]
  },
  {
   "cell_type": "code",
   "execution_count": null,
   "metadata": {},
   "outputs": [],
   "source": [
    "def nullify_first_element(l):\n",
    "    l[0] = 0\n",
    "\n",
    "x = [1,2,3]\n",
    "\n",
    "print(\"[Before] x = \", x)\n",
    "nullify_first_element(x)\n",
    "print(\"[After] x = \", x)"
   ]
  },
  {
   "cell_type": "markdown",
   "metadata": {},
   "source": [
    "## Question: Has ```x``` actually been changed?"
   ]
  },
  {
   "cell_type": "markdown",
   "metadata": {},
   "source": [
    "### Exercise: $a^3$ \n",
    "Write a function $a\\_random\\_name(x)$ that will firstly print the value of x, and then return the value of $x^3$."
   ]
  },
  {
   "cell_type": "code",
   "execution_count": null,
   "metadata": {},
   "outputs": [],
   "source": [
    "def a_random_name(x):\n",
    "    ########################\n",
    "    # Insert your code here#\n",
    "    ########################\n",
    "\n",
    "    ########################\n",
    "    pass"
   ]
  },
  {
   "cell_type": "markdown",
   "metadata": {},
   "source": [
    "## Examples\n",
    "### A function that swaps two parameters"
   ]
  },
  {
   "cell_type": "code",
   "execution_count": null,
   "metadata": {},
   "outputs": [],
   "source": [
    "def fake_swap(x, y):\n",
    "    z = x\n",
    "    x = y\n",
    "    y = z\n",
    "\n",
    "a = \"tea\"\n",
    "b = \"coffee\" \n",
    "print(\"------------------before------------------\")\n",
    "print(\"    a = \", a)\n",
    "print(\"    b = \", b)\n",
    "\n",
    "# fake_swap function call\n",
    "fake_swap(a, b)\n",
    "\n",
    "print(\"------------------after------------------\")\n",
    "print(\"    a = \", a)\n",
    "print(\"    b = \", b)"
   ]
  },
  {
   "cell_type": "markdown",
   "metadata": {},
   "source": [
    "### Note\n",
    "When the variables a, b are passed to the function *fake_swap(x, y)*, a copy of *a* will be stored in *x* and a copy of *b* will be store in *y*. Any change that is made to *x, y* will not touch the variables *a* and *b* directly. Therefore the value of *a, b* will remain unchanged after the call to *fake_swap(a, b)*.\n",
    "\n",
    "The correct way of doing this type of function is:"
   ]
  },
  {
   "cell_type": "code",
   "execution_count": null,
   "metadata": {},
   "outputs": [],
   "source": [
    "def swap1(x, y):\n",
    "    z = x\n",
    "    x = y\n",
    "    y = z\n",
    "    return x, y\n",
    "\n",
    "a = \"tea\"\n",
    "b = \"coffee\" \n",
    "print(\"------------------before------------------\")\n",
    "print(\"    a = \", a)\n",
    "print(\"    b = \", b)\n",
    "\n",
    "# Register the return value of swap1 back to a and b\n",
    "a, b = swap1(a, b)\n",
    "\n",
    "print(\"------------------after------------------\")\n",
    "print(\"    a = \", a)\n",
    "print(\"    b = \", b)"
   ]
  },
  {
   "cell_type": "code",
   "execution_count": null,
   "metadata": {},
   "outputs": [],
   "source": [
    "# A very Python-ist way\n",
    "def swap2(x, y):\n",
    "    return y, x\n",
    "\n",
    "a = \"tea\"\n",
    "b = \"coffee\" \n",
    "print(\"------------------before------------------\")\n",
    "print(\"    a = \", a)\n",
    "print(\"    b = \", b)\n",
    "\n",
    "# Register the return value of swap1 back to a and b\n",
    "a, b = swap2(a, b)\n",
    "\n",
    "print(\"------------------after------------------\")\n",
    "print(\"    a = \", a)\n",
    "print(\"    b = \", b)"
   ]
  },
  {
   "cell_type": "markdown",
   "metadata": {},
   "source": [
    "### Sidenote\n",
    "The functions *swap* above serve the purpose of demonstrate how functions work in Python. If one wants to swap the value, he can simply write:"
   ]
  },
  {
   "cell_type": "code",
   "execution_count": null,
   "metadata": {},
   "outputs": [],
   "source": [
    "a = \"tea\"\n",
    "b = \"coffee\" \n",
    "\n",
    "print(\"------------------before------------------\")\n",
    "print(\"    a = \", a)\n",
    "print(\"    b = \", b)\n",
    "\n",
    "# Register the return value of swap1 back to a and b\n",
    "a, b = b, a\n",
    "\n",
    "print(\"------------------after------------------\")\n",
    "print(\"    a = \", a)\n",
    "print(\"    b = \", b)"
   ]
  },
  {
   "cell_type": "markdown",
   "metadata": {},
   "source": [
    "## Recursive function\n",
    "A recursive function is a function that call itself inside its definition.\n",
    "\n",
    "To demonstrate this concept, let's consider the factorial function:\n",
    "\n",
    "$$\n",
    "n! = factorial(n) = n*(n-1)*...*1\n",
    "$$\n",
    "\n",
    "We can see that:\n",
    "- $factorial(1) = 1$\n",
    "- $factorial(n) = n*factorial(n-1)$ for $n>1$\n",
    "\n",
    "The function can be then implemented as:\n"
   ]
  },
  {
   "cell_type": "code",
   "execution_count": null,
   "metadata": {},
   "outputs": [],
   "source": [
    "def factorial(n):\n",
    "    if n==1:\n",
    "        return 1\n",
    "        \n",
    "    return n*factorial(n-1)"
   ]
  },
  {
   "cell_type": "markdown",
   "metadata": {},
   "source": [
    "## Note\n",
    "The *return* statement terminates the function and ignore the remaining code."
   ]
  },
  {
   "cell_type": "code",
   "execution_count": null,
   "metadata": {},
   "outputs": [],
   "source": [
    "# Test\n",
    "print(factorial(1))\n",
    "print(factorial(3))\n",
    "print(factorial(10))"
   ]
  },
  {
   "cell_type": "markdown",
   "metadata": {},
   "source": [
    "## Exercise: Fibonacci number\n",
    "Write a function that compute the n-th Fibonacci ($F_N$) number:\n",
    "- $ F_0=0 $\n",
    "- $ F_1=1 $\n",
    "- $ F_N = F_{N-1}+F_{N-2}$ for $N\\geq2$"
   ]
  },
  {
   "cell_type": "code",
   "execution_count": null,
   "metadata": {},
   "outputs": [],
   "source": [
    "def fibo(n):\n",
    "    ########################\n",
    "    # Insert your code here#\n",
    "    ########################\n",
    "\n",
    "    ########################\n",
    "    pass"
   ]
  },
  {
   "cell_type": "markdown",
   "metadata": {},
   "source": [
    "# Library in Python\n",
    "One of the reasons that make Python so popular is the number of libraries that Python supports. A library is a collection of prebuilt code (functions, classes or types) for specific purposes. Libraries eliminate te need for writing code from scratch and developpers can save time to focus more about their models instead of programming language.\n",
    "\n",
    "Some (very) useful libraries:\n",
    "- **numpy**: the most used library of Python. The library is the fundamental package for scientific computing in Python including mathematical, logical, shape manipulation, sorting, selecting, I/O, discrete Fourier transforms, basic linear algebra, basic statistical operations, random simulation and much more. (Link: https://numpy.org/doc/stable/index.html)\n",
    "- **matplotlib**: visualization tools for Python code (Link: https://matplotlib.org/stable/contents.html)\n",
    "- **pandas**: data analysis and manipulation tools (yo, this one can read Excel files) (Link: https://pandas.pydata.org/)\n",
    "\n",
    "## Importing Libraries\n",
    "In order to use the code from a library, it needs to be imported."
   ]
  },
  {
   "cell_type": "code",
   "execution_count": null,
   "metadata": {},
   "outputs": [],
   "source": [
    "import numpy as np ## np is an alias of numpy\n",
    "import matplotlib.pyplot as plt # plt is an alias of the module pyplot from matplotlib\n",
    "# from matplotlib import pyplot as plt\n",
    "# Enable interactive plot\n",
    "%matplotlib"
   ]
  },
  {
   "cell_type": "markdown",
   "metadata": {},
   "source": [
    "## Library usage"
   ]
  },
  {
   "cell_type": "code",
   "execution_count": null,
   "metadata": {},
   "outputs": [],
   "source": [
    "ones = np.ones((3,4)) # init a matrix 3x4 of ones\n",
    "print(\"ones = \", ones, \"\\n --- type of ones: \", type(ones))\n",
    "print(\"-------------------------------\")\n",
    "# generate a list of size 50 containing random natural numbers in the interval [1, 1000]\n",
    "randoms = np.random.randint(low=1, high=10000, size=50)\n",
    "print(\"randoms = \", randoms, \"\\n --- type of ones: \", type(randoms))\n",
    "print(\"-------------------------------\")\n",
    "# inverse the list randoms (element-wise)\n",
    "i_randoms = np.reciprocal(np.float64(randoms))\n",
    "print(\"i_randoms = \", i_randoms, \"\\n --- type of ones: \", type(i_randoms))"
   ]
  },
  {
   "cell_type": "code",
   "execution_count": null,
   "metadata": {},
   "outputs": [],
   "source": [
    "# Plot the exponential function e^x with x from -5 to 5\n",
    "\n",
    "# Fetch x with 1000 samples distributed over [-5,5]\n",
    "\n",
    "# # without numpy\n",
    "# x = [i/100-5 for i in range(0, 1000)] \n",
    "\n",
    "# with numpy\n",
    "x = np.linspace(-5.0, 5.0, num=1000)\n",
    "# print(\"x = \", x)\n",
    "y = np.exp(x)\n",
    "plt.plot(x, y)\n",
    "plt.show()\n"
   ]
  },
  {
   "cell_type": "code",
   "execution_count": null,
   "metadata": {},
   "outputs": [],
   "source": [
    "plt.grid(color='gray')\n",
    "plt.plot(x, y)\n",
    "plt.show()"
   ]
  }
 ],
 "metadata": {
  "interpreter": {
   "hash": "1b79993a2ae15091fcd38ff818a05cf5295d1fd0de51de926e12ba603809d91f"
  },
  "kernelspec": {
   "display_name": "Python 3.8.8 64-bit ('base': conda)",
   "name": "python3"
  },
  "language_info": {
   "codemirror_mode": {
    "name": "ipython",
    "version": 3
   },
   "file_extension": ".py",
   "mimetype": "text/x-python",
   "name": "python",
   "nbconvert_exporter": "python",
   "pygments_lexer": "ipython3",
   "version": "3.8.8"
  },
  "orig_nbformat": 4
 },
 "nbformat": 4,
 "nbformat_minor": 2
}
