{
 "cells": [
  {
   "cell_type": "markdown",
   "metadata": {},
   "source": [
    "### Exercise 4.2: find all pairs possible from a list\n",
    "Given a list ```l```, in this exercise, we add a constraint that $(m, n)$ is considered identical to $(n,m)$. Write a function that print out all different pairs given the list ```l``` and the constraint.\n",
    "\n",
    "Example:\n",
    "Given $l = [1, 2]$, the function should print out $(1,1), (1,2), (2,2)$.\n",
    "\n",
    "**Hint**:\n",
    "- As we can observe in the first exercise, to print out different pairs, the list must not contain duplicates. In order to do so, we create an empty list called ```l2```. And then step by step, we add the items of list ```l``` to ```l2```, every time an item is added to ```l2```, we need to make sure that the items has not been in ```l2``` yet.\n",
    "- And print out all the pairs that can be formed from ```l2```."
   ]
  },
  {
   "cell_type": "code",
   "execution_count": null,
   "metadata": {},
   "outputs": [],
   "source": [
    "def print_pairs_2(l):\n",
    "    #################\n",
    "    # create a list l2 --> items from l no duplication\n",
    "    #################\n",
    "    l2 = []\n",
    "\n",
    "    #############\n",
    "    for i in range(len(l2)):\n",
    "        for j in range(i, len(l2)):\n",
    "            print(l2[i], l2[j])"
   ]
  },
  {
   "cell_type": "code",
   "execution_count": null,
   "metadata": {},
   "outputs": [],
   "source": [
    "# Test\n",
    "l = [1, 2, 2, 1, 3] # -> l2 [1, 2, 3]\n",
    "print_pairs_2(l)"
   ]
  },
  {
   "cell_type": "markdown",
   "metadata": {},
   "source": [
    "### Exercise 5: sorting\n",
    "Given a list ```l```, return a new list that contains the values of ```l``` in ascending order. For example: given ```l = [3, 4, 1, 0, 9]```, return value must be ```[0, 1, 3, 4, 9]```.\n",
    "\n",
    "Hint: Do you remember 'recursion'?\n",
    "\n",
    "There are many research has been done on this topic. The code below will represent a simple idea to sort a list of numbers. \n",
    "- Find the maximum value of the list, put it to the left end of the list and sort the rest.\n",
    "- Formal formula: $sort(l) = sort(the rest) + [maximum(l)]$\n",
    "- The length of 'the rest' will be the length of l minus 1.\n",
    "- The algorithm must stop at some point, hence we need to handle explicitly a trivial case. For this problem, the trivial case is when ```l``` has only ONE object.\n",
    "\n",
    "Hey, recursion????"
   ]
  },
  {
   "cell_type": "code",
   "execution_count": null,
   "metadata": {},
   "outputs": [],
   "source": [
    "# this function return the index of the maximum value of l\n",
    "def get_max_val_index(l):\n",
    "    #######################\n",
    "    # Insert your code here#\n",
    "    ########################\n",
    "\n",
    "    ########################\n",
    "    pass"
   ]
  },
  {
   "cell_type": "code",
   "execution_count": null,
   "metadata": {},
   "outputs": [],
   "source": [
    "# test function get_max_val_index\n",
    "print(get_max_val_index([1,5,2, 4])) # should be 1\n",
    "print(get_max_val_index([1,5,2, 4, 8])) # should be 4"
   ]
  },
  {
   "cell_type": "code",
   "execution_count": null,
   "metadata": {},
   "outputs": [],
   "source": [
    "def sort(l):\n",
    "    #######################\n",
    "    # Insert your code here#\n",
    "    ########################\n",
    "\n",
    "    ########################\n",
    "    pass"
   ]
  }
 ],
 "metadata": {
  "interpreter": {
   "hash": "1b79993a2ae15091fcd38ff818a05cf5295d1fd0de51de926e12ba603809d91f"
  },
  "kernelspec": {
   "display_name": "Python 3.8.8 64-bit ('base': conda)",
   "name": "python3"
  },
  "language_info": {
   "codemirror_mode": {
    "name": "ipython",
    "version": 3
   },
   "file_extension": ".py",
   "mimetype": "text/x-python",
   "name": "python",
   "nbconvert_exporter": "python",
   "pygments_lexer": "ipython3",
   "version": "3.8.8"
  },
  "orig_nbformat": 4
 },
 "nbformat": 4,
 "nbformat_minor": 2
}
