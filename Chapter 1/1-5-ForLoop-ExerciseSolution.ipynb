{
 "cells": [
  {
   "cell_type": "markdown",
   "metadata": {},
   "source": [
    "### Exercise 2: finding odd value of a list\n",
    "Given a list ```l``` containing non-negative natural numbers, write a function that prints out all the odd numbers of ```l```."
   ]
  },
  {
   "cell_type": "code",
   "execution_count": 2,
   "metadata": {},
   "outputs": [],
   "source": [
    "def print_odd(l):\n",
    "    for i in l:\n",
    "        if i%2==1:\n",
    "            print(i)"
   ]
  },
  {
   "cell_type": "code",
   "execution_count": 3,
   "metadata": {},
   "outputs": [
    {
     "name": "stdout",
     "output_type": "stream",
     "text": [
      "1\n",
      "5\n",
      "-1\n"
     ]
    }
   ],
   "source": [
    "# Test\n",
    "print_odd([1,4,5,-1])"
   ]
  },
  {
   "cell_type": "markdown",
   "metadata": {},
   "source": [
    "### Exercise 3: finding max value of a list\n",
    "Given a list ```l``` containing non-negative natural numbers, write a function that return the maximum value of ```l```."
   ]
  },
  {
   "cell_type": "code",
   "execution_count": 4,
   "metadata": {},
   "outputs": [],
   "source": [
    "def maximum(l):\n",
    "    if len(l)==0:\n",
    "        return None\n",
    "        \n",
    "    max_value = l[0]\n",
    "    for i in l:\n",
    "        if i > max_value:\n",
    "            max_value = i\n",
    "    return max_value\n"
   ]
  },
  {
   "cell_type": "code",
   "execution_count": 8,
   "metadata": {},
   "outputs": [
    {
     "data": {
      "text/plain": [
       "5"
      ]
     },
     "execution_count": 8,
     "metadata": {},
     "output_type": "execute_result"
    }
   ],
   "source": [
    "# Test\n",
    "maximum([1, 4 ,5 , -8, 5])"
   ]
  },
  {
   "cell_type": "markdown",
   "metadata": {},
   "source": [
    "### Exercise 4.1: find all pairs possible from a list\n",
    "Given a list ```l```, write a function that prints out all the pairs from the given list.\n",
    "\n",
    "Example:\n",
    "Given $l = [1, 2]$, the function should print out $(1,1), (1,2), (2,1), (2,2)$."
   ]
  },
  {
   "cell_type": "code",
   "execution_count": 12,
   "metadata": {},
   "outputs": [],
   "source": [
    "def print_pair(l):\n",
    "    for i in l:\n",
    "        for j in l:\n",
    "            print((i,j))"
   ]
  },
  {
   "cell_type": "code",
   "execution_count": 14,
   "metadata": {},
   "outputs": [
    {
     "name": "stdout",
     "output_type": "stream",
     "text": [
      "(1, 1)\n",
      "(1, 3)\n",
      "(1, 3)\n",
      "(3, 1)\n",
      "(3, 3)\n",
      "(3, 3)\n",
      "(3, 1)\n",
      "(3, 3)\n",
      "(3, 3)\n"
     ]
    }
   ],
   "source": [
    "# Test\n",
    "print_pair([1,3,3])"
   ]
  },
  {
   "cell_type": "markdown",
   "metadata": {},
   "source": [
    "### Exercise 4.2: find all pairs possible from a list\n",
    "Given a list ```l```, in this exercise, we add a constraint that $(m, n)$ is considered identical to $(n,m)$. Write a function that print out all different pairs given the list ```l``` and the constraint.\n",
    "\n",
    "Example:\n",
    "Given $l = [1, 2]$, the function should print out $(1,1), (1,2), (2,2)$."
   ]
  },
  {
   "cell_type": "code",
   "execution_count": 22,
   "metadata": {},
   "outputs": [],
   "source": [
    "def is_n_in_l(n, l):\n",
    "    for i in l:\n",
    "        if n==i:\n",
    "            return True\n",
    "    \n",
    "    return False\n",
    "\n",
    "def print_pair_2(l):\n",
    "    # Creating a list derived from l without duplicates\n",
    "    l2 = []\n",
    "    for i in l:\n",
    "        if not is_n_in_l(i, l2): # check if i has not been already in l2\n",
    "            l2 += [i] # add i to l2\n",
    "    \n",
    "    # print(l2) # uncomment this line to see what values are in l2\n",
    "    for i in range(len(l2)):\n",
    "        for j in range(i,len(l2)):\n",
    "            print((l2[i], l2[j]))\n"
   ]
  },
  {
   "cell_type": "code",
   "execution_count": 23,
   "metadata": {},
   "outputs": [
    {
     "name": "stdout",
     "output_type": "stream",
     "text": [
      "(1, 1)\n",
      "(1, 3)\n",
      "(3, 3)\n"
     ]
    }
   ],
   "source": [
    "# Test\n",
    "print_pair_2([1,3,3, 3, 3, 3])"
   ]
  },
  {
   "cell_type": "markdown",
   "metadata": {},
   "source": [
    "### Exercise 5: sorting\n",
    "Given a list ```l```, return a new list that contains the values of ```l``` in ascending order. For example: given ```l = [3, 4, 1, 0, 9]```, return value must be ```[0, 1, 3, 4, 9]```.\n",
    "\n",
    "Hint: Do you remember 'recursion'?\n",
    "\n",
    "There are many research has been done on this topic. The code below will represent a simple idea to sort a list of numbers. \n",
    "- Find the maximum value of the list, put it to the left end of the list and sort the rest.\n",
    "- Formal formula: $sort(l) = sort(the rest) + [maximum(l)]$\n",
    "- The length of 'the rest' will be the length of l minus 1.\n",
    "- The algorithm must stop at some point, hence we need to handle explicitly a trivial case. For this problem, the trivial case is when ```l``` has only ONE object.\n",
    "\n",
    "Hey, recursion????"
   ]
  },
  {
   "cell_type": "code",
   "execution_count": 28,
   "metadata": {},
   "outputs": [],
   "source": [
    "def get_max_val_index(l):\n",
    "    max_index = 0\n",
    "    for i in range(len(l)):\n",
    "        if l[max_index] < l[i]:\n",
    "            max_index = i\n",
    "    return max_index"
   ]
  },
  {
   "cell_type": "code",
   "execution_count": 29,
   "metadata": {},
   "outputs": [
    {
     "data": {
      "text/plain": [
       "1"
      ]
     },
     "execution_count": 29,
     "metadata": {},
     "output_type": "execute_result"
    }
   ],
   "source": [
    "# test function get_max_val_index\n",
    "get_max_val_index([1,5,2, 4])"
   ]
  },
  {
   "cell_type": "code",
   "execution_count": 32,
   "metadata": {},
   "outputs": [],
   "source": [
    "def sort(l):\n",
    "    if len(l)==1:\n",
    "        return l\n",
    "    \n",
    "    max_index = get_max_val_index(l)\n",
    "    the_rest = [l[i] for i in range(len(l)) if i!=max_index]\n",
    "\n",
    "    return sort(the_rest) + [l[max_index]]"
   ]
  },
  {
   "cell_type": "code",
   "execution_count": 33,
   "metadata": {},
   "outputs": [
    {
     "data": {
      "text/plain": [
       "[1, 2, 3, 4]"
      ]
     },
     "execution_count": 33,
     "metadata": {},
     "output_type": "execute_result"
    }
   ],
   "source": [
    "# test sort\n",
    "sort([1,4,3,2])"
   ]
  }
 ],
 "metadata": {
  "interpreter": {
   "hash": "1b79993a2ae15091fcd38ff818a05cf5295d1fd0de51de926e12ba603809d91f"
  },
  "kernelspec": {
   "display_name": "Python 3.8.8 64-bit ('base': conda)",
   "name": "python3"
  },
  "language_info": {
   "codemirror_mode": {
    "name": "ipython",
    "version": 3
   },
   "file_extension": ".py",
   "mimetype": "text/x-python",
   "name": "python",
   "nbconvert_exporter": "python",
   "pygments_lexer": "ipython3",
   "version": "3.8.8"
  },
  "orig_nbformat": 4
 },
 "nbformat": 4,
 "nbformat_minor": 2
}
