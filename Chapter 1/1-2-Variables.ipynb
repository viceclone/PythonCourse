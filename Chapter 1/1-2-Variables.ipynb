{
 "cells": [
  {
   "cell_type": "markdown",
   "metadata": {},
   "source": [
    "# Variable\n",
    "Variables are containers for storing data values.\n",
    "\n",
    "Imagine a variable is a cup, and the content inside the cup is its data value.\n",
    "\n",
    "## Variable creation\n",
    "A variable is created the moment a first value is assigned to it. A variable can contain only one object as a time. Since Python is not a typed language, one does not have to specify the content inside the variable."
   ]
  },
  {
   "cell_type": "code",
   "execution_count": 3,
   "metadata": {},
   "outputs": [
    {
     "name": "stdout",
     "output_type": "stream",
     "text": [
      "345.6\n",
      "a= 123\n",
      "b= sad'\"s'\n",
      "c= [1, 2, 'abc', 'a', 'sadsa', [3, 4]]\n",
      "c[0]= 1\n",
      "d= (1, 2)\n",
      "g= True\n",
      "h =  False\n",
      "e =  True\n"
     ]
    }
   ],
   "source": [
    "# A variable can contain a natural number\n",
    "a = 123\n",
    "a_variable = 345.6\n",
    "print(a_variable)\n",
    "# or a string (a chain of characters) \n",
    "b = \"A string\" \n",
    "b = 'Anoth\"e\"r String'\n",
    "b = \"sad'\\\"s'\"\n",
    "# or multiple object in a list\n",
    "c = [1, 2, \"abc\", 'a', 'sadsa', [3,4]] \n",
    "d = 1, 2 # tuple\n",
    "print(\"a=\", a)\n",
    "print(\"b=\", b)\n",
    "# Python list will be covered later\n",
    "print(\"c=\", c)\n",
    "print(\"c[0]=\", c[0])\n",
    "print(\"d=\", d)\n",
    "\n",
    "# A variable can contain a boolean (a type whose values can only be True or False)\n",
    "e = True\n",
    "f = False\n",
    "g = e or f\n",
    "h = (3>1) and (5<2)\n",
    "print(\"g=\", g)\n",
    "print(\"h = \", h)\n",
    "print(\"e = \", e)"
   ]
  },
  {
   "cell_type": "code",
   "execution_count": 15,
   "metadata": {},
   "outputs": [
    {
     "name": "stdout",
     "output_type": "stream",
     "text": [
      "h =  False\n"
     ]
    }
   ],
   "source": [
    "h =  not (5>2)\n",
    "print(\"h = \", h)\n"
   ]
  },
  {
   "cell_type": "code",
   "execution_count": 16,
   "metadata": {},
   "outputs": [
    {
     "name": "stdout",
     "output_type": "stream",
     "text": [
      "c= [1, 2, 'abc', 'a', 'sadsa']\n"
     ]
    }
   ],
   "source": [
    "c = [1, 2, \"abc\", 'a', 'sadsa'] \n",
    "print(\"c=\", c)"
   ]
  },
  {
   "cell_type": "markdown",
   "metadata": {},
   "source": [
    "## Note\n",
    "In the example given above, despite storing multiple sub-object inside a list, 'c' contains only ONE unique list of objects.\n",
    "\n",
    "The same statement can be applied to 'd' as 'd' is a tuple.\n",
    "\n",
    "If a new value is assigned to a variable, the previous value inside the variable will disappear."
   ]
  },
  {
   "cell_type": "code",
   "execution_count": 17,
   "metadata": {},
   "outputs": [
    {
     "name": "stdout",
     "output_type": "stream",
     "text": [
      "['abc', 'def', 1, [2, 3]]\n"
     ]
    }
   ],
   "source": [
    "# The previous list stored in 'c' will disappear\n",
    "c = [\"abc\", \"def\", 1, [2, 3]] \n",
    "print(c)"
   ]
  },
  {
   "cell_type": "code",
   "execution_count": 34,
   "metadata": {},
   "outputs": [
    {
     "name": "stdout",
     "output_type": "stream",
     "text": [
      "[[1, 2, 3], [4, 5, 6]]\n"
     ]
    }
   ],
   "source": [
    "matrix = [[1,2,3], [4,5,6]]\n",
    "print(matrix)"
   ]
  },
  {
   "cell_type": "code",
   "execution_count": 36,
   "metadata": {},
   "outputs": [
    {
     "name": "stdout",
     "output_type": "stream",
     "text": [
      "5\n"
     ]
    }
   ],
   "source": [
    "print(matrix[1][1])\n",
    "\n"
   ]
  },
  {
   "cell_type": "markdown",
   "metadata": {},
   "source": [
    "## Copying a trivial variable (number, string)\n",
    "A variable can be reused multiple times. One can create a copy of the content inside a variable by doing an assignment operation."
   ]
  },
  {
   "cell_type": "code",
   "execution_count": 40,
   "metadata": {},
   "outputs": [
    {
     "name": "stdout",
     "output_type": "stream",
     "text": [
      "b =  sad'\"s'  tail  taidasdal  taidasdal  taidasdal\n",
      "copy_of_b =  sad'\"s'  tail  taidasdal  taidasdal  taidasdal\n",
      "newwww b =  sad'\"s'  tail  taidasdal  taidasdal  taidasdal\n",
      "new copy_of_b =  sad'\"s'  tail  taidasdal  taidasdal  taidasdalw\n"
     ]
    }
   ],
   "source": [
    "# Assign the value of b to itself\n",
    "b = b + \"  taidasdal\"\n",
    "# Assign the value of b to e\n",
    "copy_of_b = b\n",
    "print(\"b = \", b)\n",
    "print(\"copy_of_b = \", copy_of_b)\n",
    "# Append a character to the copy of b\n",
    "copy_of_b = copy_of_b + \"w\"\n",
    "print(\"newwww b = \", b)\n",
    "print(\"new copy_of_b = \", copy_of_b)"
   ]
  },
  {
   "cell_type": "code",
   "execution_count": 41,
   "metadata": {},
   "outputs": [
    {
     "name": "stdout",
     "output_type": "stream",
     "text": [
      "123\n"
     ]
    }
   ],
   "source": [
    "l = a\n",
    "print(l)"
   ]
  },
  {
   "cell_type": "markdown",
   "metadata": {},
   "source": [
    "# Copying a container in Python (copying a Python list)\n",
    "The process of copying a list in Python is not complicated but needed to be done carefully."
   ]
  },
  {
   "cell_type": "code",
   "execution_count": 42,
   "metadata": {},
   "outputs": [
    {
     "name": "stdout",
     "output_type": "stream",
     "text": [
      "c =  ['abc', 'def', 1, [2, 3]]\n",
      "copy_of_c_1 =  ['abc', 'def', 1, [2, 3]]\n",
      "-----------new-------------\n",
      "c =  ['abc', 'def', 1, [2, 3], 'tail']\n",
      "copy_of_c_1 =  ['abc', 'def', 1, [2, 3], 'tail']\n"
     ]
    }
   ],
   "source": [
    "copy_of_c_1 = c\n",
    "print(\"c = \", c)\n",
    "print(\"copy_of_c_1 = \", copy_of_c_1)\n",
    "# making change to copy_of_c_1\n",
    "copy_of_c_1 += [\"tail\"] # copy_of_c_1 = copy_of_c_1 + [\"tail\"]\n",
    "print(\"-----------new-------------\")\n",
    "print(\"c = \", c)\n",
    "print(\"copy_of_c_1 = \", copy_of_c_1)"
   ]
  },
  {
   "cell_type": "markdown",
   "metadata": {},
   "source": [
    "## Note\n",
    "We can see the value of c change according to the value of copy_of_c_1. Why does that happen?\n",
    "\n",
    "'c' does not store the whole content of the list, instead it stores the memory address of the list.\n",
    "\n",
    "The assignment of 'c' to 'copy_of_c_1' does not copy the whole content of the list stored in 'c' to the latter variable. Instead, the address of 'c' is copied to 'copy_of_c_1'. \n",
    "Since 'c' and 'copy_of_c_1' store the same memory address, any changes that are made to the content of 'c' will also be able to observe from 'copy_of_c_1'.\n",
    "\n",
    "But I want to create a copy of 'c' independent from 'c', what should I do?\n",
    "\n",
    "(Yo, I know this is not quite obvious, but it is important to understand as we will work with list a lot)"
   ]
  },
  {
   "cell_type": "code",
   "execution_count": null,
   "metadata": {},
   "outputs": [],
   "source": [
    "# properly copy c to copy_of_c_2\n",
    "copy_of_c_2 = [item for item in c]\n",
    "print(\"c = \", c)\n",
    "print(\"copy_of_c_2 = \", copy_of_c_2)\n",
    "# making change to copy_of_c_2\n",
    "copy_of_c_2 += [\"tail of tail\"]\n",
    "print(\"-----------new-------------\")\n",
    "print(\"c = \", c)\n",
    "print(\"copy_of_c_2 = \", copy_of_c_2)"
   ]
  },
  {
   "cell_type": "markdown",
   "metadata": {},
   "source": [
    "## Exercise 1: swapping 2 trivial variables\n",
    "Given x, y. \n",
    "- Print the value of x\n",
    "- Print the value of y\n",
    "- Swapping the content of x and y (x becomes y, y becomes x)\n",
    "\n",
    "Hint: imagine x is a cup of tea and y is a cup of coffee, how to make the cup x to contain coffee and y to contain tea"
   ]
  },
  {
   "cell_type": "code",
   "execution_count": 44,
   "metadata": {},
   "outputs": [
    {
     "name": "stdout",
     "output_type": "stream",
     "text": [
      "-------------x and y before swapping-------------\n",
      "    x =  10\n",
      "    y =  coffee\n",
      "-------------x and y after swapping-------------\n",
      "    x =  coffee\n",
      "    y =  10\n"
     ]
    }
   ],
   "source": [
    "x = 10\n",
    "y = \"coffee\"\n",
    "print(\"-------------x and y before swapping-------------\")\n",
    "print(\"    x = \", x)\n",
    "print(\"    y = \", y)\n",
    "########################\n",
    "# Insert your code here#\n",
    "########################\n",
    "z = x\n",
    "x = y\n",
    "y = z\n",
    "\n",
    "########################\n",
    "print(\"-------------x and y after swapping-------------\")\n",
    "print(\"    x = \", x)\n",
    "print(\"    y = \", y)"
   ]
  },
  {
   "cell_type": "markdown",
   "metadata": {},
   "source": [
    "## Note \n",
    "The solution above demonstrate a classic thought process of solving the swapping problem. However in Python, there is a very simple (cheaty) way to swap the value of two variables."
   ]
  },
  {
   "cell_type": "code",
   "execution_count": 45,
   "metadata": {},
   "outputs": [
    {
     "name": "stdout",
     "output_type": "stream",
     "text": [
      "-------------x and y before swapping-------------\n",
      "    x =  10\n",
      "    y =  coffee\n",
      "-------------x and y after swapping-------------\n",
      "    x =  coffee\n",
      "    y =  10\n"
     ]
    }
   ],
   "source": [
    "x = 10\n",
    "y = \"coffee\"\n",
    "print(\"-------------x and y before swapping-------------\")\n",
    "print(\"    x = \", x)\n",
    "print(\"    y = \", y)\n",
    "########################\n",
    "# Insert your code here#\n",
    "########################\n",
    "\n",
    "x, y = y, x\n",
    "########################\n",
    "print(\"-------------x and y after swapping-------------\")\n",
    "print(\"    x = \", x)\n",
    "print(\"    y = \", y)"
   ]
  }
 ],
 "metadata": {
  "interpreter": {
   "hash": "1b79993a2ae15091fcd38ff818a05cf5295d1fd0de51de926e12ba603809d91f"
  },
  "kernelspec": {
   "display_name": "Python 3.8.8 64-bit ('base': conda)",
   "name": "python3"
  },
  "language_info": {
   "codemirror_mode": {
    "name": "ipython",
    "version": 3
   },
   "file_extension": ".py",
   "mimetype": "text/x-python",
   "name": "python",
   "nbconvert_exporter": "python",
   "pygments_lexer": "ipython3",
   "version": "3.8.8"
  },
  "orig_nbformat": 4
 },
 "nbformat": 4,
 "nbformat_minor": 2
}
