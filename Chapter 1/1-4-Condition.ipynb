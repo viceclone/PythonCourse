{
 "cells": [
  {
   "cell_type": "markdown",
   "metadata": {},
   "source": [
    "# Boolean\n",
    "Boolean (or bool) is a datatype whose value can only be ```True``` or ```False```"
   ]
  },
  {
   "cell_type": "code",
   "execution_count": null,
   "metadata": {},
   "outputs": [],
   "source": [
    "bool1 = True\n",
    "bool2 = False\n",
    "bool3 = 5>2 # Is 5 greater than 2?\n",
    "\n",
    "x = 10\n",
    "bool4 = (x%2)==0 # Is x an even number?\n",
    "print(\"bool1 = \", bool1)\n",
    "print(\"bool2 = \", bool2)\n",
    "print(\"bool3 = \", bool3)\n",
    "print(\"bool4 = \", bool4)"
   ]
  },
  {
   "cell_type": "markdown",
   "metadata": {},
   "source": [
    "## List comprehension\n",
    "We can select items satisfying a specific condition from a list to another list using the syntax\n",
    "```Python\n",
    "destination_list = [i for i in source_list if condition]\n",
    "```\n",
    "\n",
    "### Example: \n",
    "Select positive numbers from ```list1``` to ```list2```"
   ]
  },
  {
   "cell_type": "code",
   "execution_count": null,
   "metadata": {},
   "outputs": [],
   "source": [
    "list1 = [-10, 2, 3, 54,-7, 2, 0]\n",
    "list2 = [i for i in list1 if i>0]\n",
    "print(list1)\n",
    "print(list2)"
   ]
  },
  {
   "cell_type": "markdown",
   "metadata": {},
   "source": [
    "### Example:\n",
    "Create a list ```list1``` which contains the value from ```0``` to ```99```\n",
    "Select odd values from ```list1```, divide them by 2 and store them in ```list2```"
   ]
  },
  {
   "cell_type": "code",
   "execution_count": null,
   "metadata": {},
   "outputs": [],
   "source": [
    "list1 = [i for i in range(100)] \n",
    "# equivalent to list1 = [i for i in range(0,100)]\n",
    "# equivalent to list1 = [i for i in range(0,100,1)]\n",
    "print(list1)\n",
    "\n",
    "#########################################\n",
    "list2 = [] # replace [] with your code :)\n",
    "print(list2)"
   ]
  },
  {
   "cell_type": "markdown",
   "metadata": {},
   "source": [
    "# Control flow\n",
    "Definition (Wikipedia): A control flow statement is a statement that results in a choice being made as to which of two or more paths to follow.\n",
    "\n",
    "This notebook will introduce the two main control flow concept in Python and other programming languages.\n",
    "- Conditional statements\n",
    "- Loops\n",
    "## Conditional statements (if ... else if ... else ...)\n",
    "Very simple, the syntax is:\n",
    "\n",
    "```Python\n",
    "if condition1:\n",
    "    # do something 1\n",
    "elif condition 2:\n",
    "    # do something 2\n",
    "else:\n",
    "    # do something 3\n",
    "```\n",
    "\n",
    "### Example: compare two variables\n"
   ]
  },
  {
   "cell_type": "code",
   "execution_count": null,
   "metadata": {},
   "outputs": [],
   "source": [
    "a = 10\n",
    "b = 10\n",
    "if a==b:\n",
    "    print(\"a is equal to b\")\n",
    "elif a<b:\n",
    "    print(\"a is smaller than b\")\n",
    "else:\n",
    "    print(\"a is greater than b\")"
   ]
  },
  {
   "cell_type": "markdown",
   "metadata": {},
   "source": [
    "### Exercise 1: maximum of two numbers\n",
    "Write a function that returns the maximum value between two variables."
   ]
  },
  {
   "cell_type": "code",
   "execution_count": null,
   "metadata": {},
   "outputs": [],
   "source": [
    "def max(a,b):\n",
    "    ########################\n",
    "    # Insert your code here#\n",
    "    ########################\n",
    "\n",
    "    ########################\n",
    "    pass"
   ]
  },
  {
   "cell_type": "markdown",
   "metadata": {},
   "source": [
    "### Exercise 2: maximum of three numbers\n",
    "Write a function that returns the maximum value between three variables.\n",
    "\n",
    "Hint: reuse the function defined above"
   ]
  },
  {
   "cell_type": "code",
   "execution_count": null,
   "metadata": {},
   "outputs": [],
   "source": [
    "def max3(a, b, c):\n",
    "    ########################\n",
    "    # Insert your code here#\n",
    "    ########################\n",
    "\n",
    "    ########################\n",
    "    pass"
   ]
  },
  {
   "cell_type": "markdown",
   "metadata": {},
   "source": [
    "## While loop\n",
    "Syntax:\n",
    "```Python\n",
    "while condition:\n",
    "    # do something\n",
    "```\n",
    "The code will 'do something' as long as the condition stays true.\n",
    "### Example\n",
    "Make the program idle for 10 seconds."
   ]
  },
  {
   "cell_type": "code",
   "execution_count": null,
   "metadata": {},
   "outputs": [],
   "source": [
    "import time\n",
    "start = time.time()\n",
    "time_ellapsed = 0\n",
    "while (time_ellapsed<10):\n",
    "    current = time.time()\n",
    "    time_ellapsed = current-start\n",
    "print(\"10 useless seconds have been spent. :(\")"
   ]
  },
  {
   "cell_type": "markdown",
   "metadata": {},
   "source": [
    "### Example\n",
    "The code below will count to 10 and output messages to screen. The code will idle for 1 second between iterations"
   ]
  },
  {
   "cell_type": "code",
   "execution_count": null,
   "metadata": {},
   "outputs": [],
   "source": [
    "count = 0 # initial value\n",
    "while count < 10:\n",
    "    print(\"count = \", count)\n",
    "    count+=1 # this is equivalent to count = count + 1\n",
    "    time.sleep(1) # this function will make the program wait for 1 second between iteration"
   ]
  },
  {
   "cell_type": "markdown",
   "metadata": {},
   "source": [
    "## Note\n",
    "The line `count+=1` play a very important role in the code above. The statement increase the value of the variable count by 1 after each iteration, for that until a certain point, the condition `count<10` will be met and the loop will stop.\n",
    "\n",
    "There are many case where the condition of the while-loop will never become false, the loop will continue endlessly. This type of situation is called an infinite loop."
   ]
  },
  {
   "cell_type": "code",
   "execution_count": null,
   "metadata": {},
   "outputs": [],
   "source": [
    "while True:\n",
    "    print(\"Infinite loop\")\n",
    "    time.sleep(1) # this function will make the program wait for 1 second between iteration"
   ]
  },
  {
   "cell_type": "markdown",
   "metadata": {},
   "source": [
    "## Break statement\n",
    "```break``` is used to interrupt the loop before it has looped through all the items.\n",
    "\n",
    "### Example: prime number\n",
    "An integer is called prime if it can only be divided by one and itself (e.g. 2, 3, 5, 7, 11, 13, ...). The simplest algorithm to check if a positive integer ```n``` is a prime number contains these following steps:\n",
    "- Iterate through the values 2, 3,..., sqrt(n), if at least one of those values divides ```n```, then ```n``` is a prime number."
   ]
  },
  {
   "cell_type": "code",
   "execution_count": null,
   "metadata": {},
   "outputs": [],
   "source": [
    "import numpy as np\n",
    "n = 49\n",
    "i = 2\n",
    "is_prime = True\n",
    "while i <= np.sqrt(n):\n",
    "    if n%i == 0:\n",
    "        is_prime = False\n",
    "        break\n",
    "    else:\n",
    "        i+=1\n",
    "\n",
    "if is_prime:\n",
    "    print(n, ' is a prime number')\n",
    "else:\n",
    "    print(n, ' is NOT a prime number')\n"
   ]
  },
  {
   "cell_type": "markdown",
   "metadata": {},
   "source": [
    "### Exercise: factorial (again)\n",
    "Write the function $factorial(n)$ using while loop\n",
    "\n",
    "Hint: Reuse the counting program above"
   ]
  },
  {
   "cell_type": "code",
   "execution_count": null,
   "metadata": {},
   "outputs": [],
   "source": [
    "def factorial(n):\n",
    "    ########################\n",
    "    # Insert your code here#\n",
    "    ########################\n",
    "\n",
    "    ########################\n",
    "    pass"
   ]
  },
  {
   "cell_type": "markdown",
   "metadata": {},
   "source": [
    "### Exercise: odd numbers\n",
    "Given a Python list named ```l```, print out all the odd numbers of ```l```.\n",
    "Hint:\n",
    "- The function ```len(l)``` will return the number of numbers stored in ```l```.\n",
    "- ```l[i]``` for ```i in [0, len(l)-1]``` is the value of i-th element stored in ```l```."
   ]
  },
  {
   "cell_type": "code",
   "execution_count": null,
   "metadata": {},
   "outputs": [],
   "source": [
    "def print_odd(l):\n",
    "    ########################\n",
    "    # Insert your code here#\n",
    "    ########################\n",
    "\n",
    "    ########################\n",
    "    pass    "
   ]
  },
  {
   "cell_type": "markdown",
   "metadata": {},
   "source": [
    "### Exercise: maximum\n",
    "Given a list ```l```. Find the greatest value of the list ```l```.\n"
   ]
  },
  {
   "cell_type": "code",
   "execution_count": null,
   "metadata": {},
   "outputs": [],
   "source": [
    "def maximum(l):\n",
    "    ########################\n",
    "    # Insert your code here#\n",
    "    ########################\n",
    "\n",
    "    ########################\n",
    "    pass  "
   ]
  },
  {
   "cell_type": "markdown",
   "metadata": {},
   "source": [
    "### Exercise: greatest common divisor (Euclid's algorithm) [https://en.wikipedia.org/wiki/Greatest_common_divisor#Euclid's_algorithm]\n",
    "Given two positive natural number $a, b$. The greatest common divisor of $a$ and $b$, denoted $gcd(a, b)$, is the largest positive integer that divides both $a$ and $b$.\n",
    "\n",
    "For example:\n",
    "- $gcd(9, 11) = 1$\n",
    "- $gcd(8, 12) = 4$\n",
    "- $gcd(3, 3) = 3$\n",
    "\n",
    "We accept the fact that if $a>b$ we have $gcd(a,b)=gcd(a-b,b)$ and $gcd(a,b)=gcd(b,a)$. From that fact, we can build an algorithm that computes $gcd(a,b)$ as follows:\n",
    "- If $a$ equals $b$, we have $gcd(a,b)=a$. In this case, return the value of $a$ as result.\n",
    "- If $a$ is different from $b$, reduce the value of $a$ or $b$ depending on which is the greater value. Repeat this step (using while loop) until we can see $a$ equals to $b$."
   ]
  },
  {
   "cell_type": "code",
   "execution_count": null,
   "metadata": {},
   "outputs": [],
   "source": [
    "def gcd(a, b):\n",
    "    ########################\n",
    "    # Insert your code here#\n",
    "    ########################\n",
    "\n",
    "    ########################\n",
    "    pass  "
   ]
  }
 ],
 "metadata": {
  "interpreter": {
   "hash": "1b79993a2ae15091fcd38ff818a05cf5295d1fd0de51de926e12ba603809d91f"
  },
  "kernelspec": {
   "display_name": "Python 3.8.8 64-bit ('base': conda)",
   "name": "python3"
  },
  "language_info": {
   "codemirror_mode": {
    "name": "ipython",
    "version": 3
   },
   "file_extension": ".py",
   "mimetype": "text/x-python",
   "name": "python",
   "nbconvert_exporter": "python",
   "pygments_lexer": "ipython3",
   "version": "3.8.8"
  },
  "orig_nbformat": 4
 },
 "nbformat": 4,
 "nbformat_minor": 2
}
