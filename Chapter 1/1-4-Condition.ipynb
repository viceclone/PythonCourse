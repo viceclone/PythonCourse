{
 "cells": [
  {
   "cell_type": "markdown",
   "metadata": {},
   "source": [
    "# Control flow\n",
    "Definition (Wikipedia): A control flow statement is a statement that results in a choice being made as to which of two or more paths to follow.\n",
    "\n",
    "This notebook will introduce the two main control flow concept in Python and other programming languages.\n",
    "- Conditional statements\n",
    "- Loops\n",
    "## Conditional statements (if ... else if ... else ...)\n",
    "Very simple, the syntax is:\n",
    "\n",
    "```Python\n",
    "if condition1:\n",
    "    # do something 1\n",
    "else if condition 2:\n",
    "    # do something 2\n",
    "else:\n",
    "    # do something 3\n",
    "```\n",
    "\n",
    "### Example: compare two variables\n"
   ]
  },
  {
   "cell_type": "code",
   "execution_count": null,
   "metadata": {},
   "outputs": [],
   "source": [
    "a = 10\n",
    "b = 10\n",
    "if a==b:\n",
    "    print(\"a is equal to b\")\n",
    "elif a<b:\n",
    "    print(\"a is smaller than b\")\n",
    "else:\n",
    "    print(\"a is greater than b\")"
   ]
  },
  {
   "cell_type": "markdown",
   "metadata": {},
   "source": [
    "### Exercise 1: maximum of two numbers\n",
    "Write a function that returns the maximum value between two variables."
   ]
  },
  {
   "cell_type": "code",
   "execution_count": null,
   "metadata": {},
   "outputs": [],
   "source": [
    "def max(a,b):\n",
    "    ########################\n",
    "    # Insert your code here#\n",
    "    ########################\n",
    "\n",
    "    ########################\n",
    "    pass"
   ]
  },
  {
   "cell_type": "markdown",
   "metadata": {},
   "source": [
    "### Exercise 2: maximum of three numbers\n",
    "Write a function that returns the maximum value between three variables.\n",
    "\n",
    "Hint: reuse the function defined above"
   ]
  },
  {
   "cell_type": "code",
   "execution_count": null,
   "metadata": {},
   "outputs": [],
   "source": [
    "def max3(a, b, c):\n",
    "    ########################\n",
    "    # Insert your code here#\n",
    "    ########################\n",
    "\n",
    "    ########################\n",
    "    pass"
   ]
  },
  {
   "cell_type": "markdown",
   "metadata": {},
   "source": [
    "## While loop\n",
    "Syntax:\n",
    "```Python\n",
    "while condition:\n",
    "    # do something\n",
    "```\n",
    "The code will 'do something' as long as the condition stays true.\n",
    "### Example\n",
    "The code below will count to 10 and output messages to screen"
   ]
  },
  {
   "cell_type": "code",
   "execution_count": null,
   "metadata": {},
   "outputs": [],
   "source": [
    "import time\n",
    "count = 0 # initial value\n",
    "while (count < 10):\n",
    "    print(\"count = \", count)\n",
    "    count+=1 # this is equivalent to count = count + 1\n",
    "    time.sleep(1) # this function will make the program wait for 1 second between iteration"
   ]
  },
  {
   "cell_type": "markdown",
   "metadata": {},
   "source": [
    "## Note\n",
    "The line `count+=1` play a very important role in the code above. The statement increase the value of the variable count by 1 after each iteration, for that until a certain point, the condition `count<10` will be met and the loop will stop.\n",
    "\n",
    "There are many case where the condition of the while-loop will never become false, the loop will continue endlessly. This type of situation is called an infinite loop."
   ]
  },
  {
   "cell_type": "code",
   "execution_count": null,
   "metadata": {},
   "outputs": [],
   "source": [
    "while True:\n",
    "    print(\"Infinite loop\")\n",
    "    time.sleep(1) # this function will make the program wait for 1 second between iteration"
   ]
  },
  {
   "cell_type": "markdown",
   "metadata": {},
   "source": [
    "### Exercise: factorial (again)\n",
    "Write the function $factorial(n)$ using while loop\n",
    "\n",
    "Hint: Reuse the counting program above"
   ]
  },
  {
   "cell_type": "code",
   "execution_count": null,
   "metadata": {},
   "outputs": [],
   "source": [
    "def factorial(n):\n",
    "    ########################\n",
    "    # Insert your code here#\n",
    "    ########################\n",
    "\n",
    "    ########################\n",
    "    pass"
   ]
  },
  {
   "cell_type": "markdown",
   "metadata": {},
   "source": [
    "### Exercise: odd numbers\n",
    "Given a Python list named ```l```, print out all the odd numbers of ```l```.\n",
    "Hint:\n",
    "- The function ```len(l)``` will return the number of numbers stored in ```l```.\n",
    "- ```l[i]``` for ```i in [0, len(l)-1]``` is the value of i-th element stored in ```l```."
   ]
  },
  {
   "cell_type": "code",
   "execution_count": null,
   "metadata": {},
   "outputs": [],
   "source": [
    "def print_odd(l):\n",
    "    ########################\n",
    "    # Insert your code here#\n",
    "    ########################\n",
    "\n",
    "    ########################\n",
    "    pass    "
   ]
  },
  {
   "cell_type": "markdown",
   "metadata": {},
   "source": [
    "### Exercise: maximum\n",
    "Given a list ```l```. Find the greatest value of the list ```l```.\n"
   ]
  },
  {
   "cell_type": "code",
   "execution_count": null,
   "metadata": {},
   "outputs": [],
   "source": [
    "def maximum(l):\n",
    "    ########################\n",
    "    # Insert your code here#\n",
    "    ########################\n",
    "\n",
    "    ########################\n",
    "    pass  "
   ]
  }
 ],
 "metadata": {
  "interpreter": {
   "hash": "1b79993a2ae15091fcd38ff818a05cf5295d1fd0de51de926e12ba603809d91f"
  },
  "kernelspec": {
   "display_name": "Python 3.8.8 64-bit ('base': conda)",
   "name": "python3"
  },
  "language_info": {
   "codemirror_mode": {
    "name": "ipython",
    "version": 3
   },
   "file_extension": ".py",
   "mimetype": "text/x-python",
   "name": "python",
   "nbconvert_exporter": "python",
   "pygments_lexer": "ipython3",
   "version": "3.8.8"
  },
  "orig_nbformat": 4
 },
 "nbformat": 4,
 "nbformat_minor": 2
}
