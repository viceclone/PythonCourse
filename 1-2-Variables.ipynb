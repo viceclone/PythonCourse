{
 "cells": [
  {
   "cell_type": "markdown",
   "metadata": {},
   "source": [
    "# Variable\n",
    "Variables are containers for storing data values.\n",
    "A variable is created the moment a first value is assigned to it"
   ]
  },
  {
   "cell_type": "code",
   "execution_count": 3,
   "metadata": {},
   "outputs": [
    {
     "name": "stdout",
     "output_type": "stream",
     "text": [
      "a= 123\n",
      "b= A string\n",
      "c= [1, 2, 'abc']\n",
      "d= (1, 2)\n"
     ]
    }
   ],
   "source": [
    "# Variable creation\n",
    "# Imagine a variable is a cup, it can contains pretty much everything\n",
    "# A variable can contain a natural number\n",
    "a = 123\n",
    "# or a string (a chain of characters) \n",
    "b = \"A string\" \n",
    "# or multiple object as an array\n",
    "c = [1, 2, \"abc\"] \n",
    "d = 1, 2\n",
    "print(\"a=\", a)\n",
    "print(\"b=\", b)\n",
    "print(\"c=\", c)\n",
    "print(\"d=\", d)"
   ]
  },
  {
   "cell_type": "code",
   "execution_count": 4,
   "metadata": {},
   "outputs": [
    {
     "name": "stdout",
     "output_type": "stream",
     "text": [
      "3\n",
      "6\n",
      "abc\n"
     ]
    }
   ],
   "source": [
    "# What will happen?\n",
    "x = 3\n",
    "print(x)\n",
    "x = x + x\n",
    "print(x)\n",
    "x = \"abc\"\n",
    "print(x)"
   ]
  },
  {
   "cell_type": "markdown",
   "metadata": {},
   "source": [
    "## Exercise: swapping 2 variables\n",
    "Given x, y. \n",
    "- Print the value of x\n",
    "- Print the value of y\n",
    "- Swapping the content of x and y (x becomes y, y becomes x)\n",
    "\n",
    "Hint: imagine x is a cup of tea and y is a cup of coffee, how to make the cup x to contain coffee and y to contain tea"
   ]
  },
  {
   "cell_type": "code",
   "execution_count": 5,
   "metadata": {},
   "outputs": [],
   "source": [
    "x = 10\n",
    "y = \"coffee\""
   ]
  }
 ],
 "metadata": {
  "interpreter": {
   "hash": "1b79993a2ae15091fcd38ff818a05cf5295d1fd0de51de926e12ba603809d91f"
  },
  "kernelspec": {
   "display_name": "Python 3.8.8 64-bit ('base': conda)",
   "name": "python3"
  },
  "language_info": {
   "codemirror_mode": {
    "name": "ipython",
    "version": 3
   },
   "file_extension": ".py",
   "mimetype": "text/x-python",
   "name": "python",
   "nbconvert_exporter": "python",
   "pygments_lexer": "ipython3",
   "version": "3.8.8"
  },
  "orig_nbformat": 4
 },
 "nbformat": 4,
 "nbformat_minor": 2
}
